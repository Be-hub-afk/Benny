{
 "cells": [
  {
   "cell_type": "code",
   "execution_count": 1,
   "metadata": {},
   "outputs": [
    {
     "name": "stdout",
     "output_type": "stream",
     "text": [
      "['Ivy', 'Ian', 'duke', 'Eve']\n"
     ]
    }
   ],
   "source": [
    "names = ['Ivy','Ian','duke','Eve']\n",
    "print(names)"
   ]
  },
  {
   "cell_type": "code",
   "execution_count": 2,
   "metadata": {},
   "outputs": [
    {
     "name": "stdout",
     "output_type": "stream",
     "text": [
      "['Ivy', 'Ian', 'duke', 'Eve', 'Duke']\n"
     ]
    }
   ],
   "source": [
    "names.append(\"Duke\")\n",
    "print(names)"
   ]
  },
  {
   "cell_type": "code",
   "execution_count": 3,
   "metadata": {},
   "outputs": [
    {
     "name": "stdout",
     "output_type": "stream",
     "text": [
      "['Ivy', 'duke', 'Eve', 'Duke']\n"
     ]
    }
   ],
   "source": [
    "names.pop(1)\n",
    "print(names)\n"
   ]
  },
  {
   "cell_type": "code",
   "execution_count": 5,
   "metadata": {},
   "outputs": [
    {
     "name": "stdout",
     "output_type": "stream",
     "text": [
      "['duke', 'Eve', 'Duke']\n"
     ]
    }
   ],
   "source": [
    "names.remove(\"Ivy\")\n",
    "print(names)"
   ]
  },
  {
   "cell_type": "code",
   "execution_count": 6,
   "metadata": {},
   "outputs": [
    {
     "name": "stdout",
     "output_type": "stream",
     "text": [
      "['alex', 'Eve', 'Duke']\n"
     ]
    }
   ],
   "source": [
    "names[0] = \"alex\"\n",
    "print(names)"
   ]
  },
  {
   "cell_type": "code",
   "execution_count": 7,
   "metadata": {},
   "outputs": [
    {
     "name": "stdout",
     "output_type": "stream",
     "text": [
      "['alex', 'Celestine', 'Eve', 'Duke']\n"
     ]
    }
   ],
   "source": [
    "names.insert(1,\"Celestine\")\n",
    "print(names)"
   ]
  },
  {
   "cell_type": "code",
   "execution_count": 8,
   "metadata": {},
   "outputs": [
    {
     "name": "stdout",
     "output_type": "stream",
     "text": [
      "{'title': 'angels and demons', 'year': 2011, 'author': 'dan brown'}\n"
     ]
    }
   ],
   "source": [
    "novel = {\n",
    "    \"title\":\"angels and demons\",\n",
    "    \"year\":2011,\n",
    "    \"author\":\"dan brown\"\n",
    "}\n",
    "print(novel)"
   ]
  },
  {
   "cell_type": "code",
   "execution_count": 9,
   "metadata": {},
   "outputs": [
    {
     "data": {
      "text/plain": [
       "2011"
      ]
     },
     "execution_count": 9,
     "metadata": {},
     "output_type": "execute_result"
    }
   ],
   "source": [
    "novel[\"year\"]"
   ]
  },
  {
   "cell_type": "code",
   "execution_count": 10,
   "metadata": {},
   "outputs": [
    {
     "name": "stdout",
     "output_type": "stream",
     "text": [
      "{'title': 'angels and demons', 'year': 2011, 'author': 'dan brown', 'pages': 200}\n"
     ]
    }
   ],
   "source": [
    "novel[\"pages\"] = 200\n",
    "print(novel)"
   ]
  },
  {
   "cell_type": "code",
   "execution_count": 11,
   "metadata": {},
   "outputs": [
    {
     "name": "stdout",
     "output_type": "stream",
     "text": [
      "{'title': 'angels and demons', 'author': 'dan brown', 'pages': 200}\n"
     ]
    }
   ],
   "source": [
    "del novel['year']\n",
    "print(novel)"
   ]
  },
  {
   "cell_type": "code",
   "execution_count": null,
   "metadata": {},
   "outputs": [],
   "source": []
  },
  {
   "cell_type": "code",
   "execution_count": null,
   "metadata": {},
   "outputs": [],
   "source": []
  }
 ],
 "metadata": {
  "kernelspec": {
   "display_name": "Python (learn-env)",
   "language": "python",
   "name": "learn-env"
  },
  "language_info": {
   "codemirror_mode": {
    "name": "ipython",
    "version": 3
   },
   "file_extension": ".py",
   "mimetype": "text/x-python",
   "name": "python",
   "nbconvert_exporter": "python",
   "pygments_lexer": "ipython3",
   "version": "3.8.5"
  }
 },
 "nbformat": 4,
 "nbformat_minor": 4
}
